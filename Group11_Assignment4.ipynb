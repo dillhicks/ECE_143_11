{
  "nbformat": 4,
  "nbformat_minor": 0,
  "metadata": {
    "colab": {
      "name": "Week5Tests.ipynb",
      "provenance": [],
      "collapsed_sections": []
    },
    "kernelspec": {
      "name": "python3",
      "display_name": "Python 3"
    }
  },
  "cells": [
    {
      "cell_type": "markdown",
      "metadata": {
        "id": "bEvSFq3Z-v8M"
      },
      "source": [
        "# Question 1: Sample bitstrings Part 1\t\r\n"
      ]
    },
    {
      "cell_type": "markdown",
      "metadata": {
        "id": "9j1sPg-Q1thY"
      },
      "source": [
        "Problem: Random samples for a finite population of bitstrings\r\n",
        "Given a number of bits, write the get_sample function to return a list n of random samples from a finite probability mass function defined by a dictionary with keys defined by a specified number of bits. For example, given 3 bits, we have the following dictionary that defines the probability of each of the keys. The values of the dictionary correspond of the probability of drawing any one of these. For example, if all of these were equally likely, then here is the corresponding dictionary p,\r\n",
        "\r\n",
        "```\r\n",
        " p={'000': 0.125, \r\n",
        " '001': 0.125, \r\n",
        " '010': 0.125, \r\n",
        " '011': 0.125, \r\n",
        " '100': 0.125, \r\n",
        " '101': 0.125, \r\n",
        " '110': 0.125, \r\n",
        " '111': 0.125} \r\n",
        " ```\r\n",
        "Your get_sample function should return something like the following,\r\n",
        "```\r\n",
        " >>> get_sample(nbits=3,prob=p,n=4)\r\n",
        "['101', '000', '001', '100'] \r\n",
        "```"
      ]
    },
    {
      "cell_type": "markdown",
      "metadata": {
        "id": "sHwnyRDl2r_9"
      },
      "source": [
        "### Validation Tests"
      ]
    },
    {
      "cell_type": "code",
      "metadata": {
        "id": "FIZqWQ8t-1Vf"
      },
      "source": [
        "assert any([isinstance(prob,dict),prob is None])\r\n",
        "if isinstance(prob,dict):\r\n",
        "  assert sum(prob.values()) == 1\r\n",
        "  assert all([len(k) == nbits for k in prob.keys()])\r\n",
        "  assert all([v >= 0 for v in prob.values()])\r\n",
        "assert isinstance(prob,dict)\r\n",
        "assert isinstance(n, int)\r\n",
        "assert isinstance(nbits, int)\r\n",
        "\r\n",
        "assert n > 0\r\n",
        "assert nbits > 0\r\n",
        "\r\n",
        "lst = list(itertools.product([0, 1], repeat=nbits))\r\n",
        "\r\n",
        "bit_list = []\r\n",
        "for bits in lst: \r\n",
        "    test = \"\".join([str(bit) for bit in bits])\r\n",
        "    bit_list.append(test)\r\n",
        "\r\n",
        "for proba in list(prob.values()):\r\n",
        "    assert proba >= 0\r\n",
        "    assert proba <= 1\r\n",
        "    assert isinstance(proba,float) or isinstance(proba,int)\r\n",
        "\r\n",
        "for num in list(prob.keys()):\r\n",
        "    assert isinstance(num,str)\r\n",
        "    assert num in bit_list\r\n",
        "\r\n",
        "for num in bit_list:\r\n",
        "    assert num in list(prob.keys())\r\n",
        "\r\n",
        "assert len(list(prob.keys())) == len(lst)\r\n",
        "\r\n",
        "for key in prob.keys():\r\n",
        "    assert all(c in \"01\" for c in key)"
      ],
      "execution_count": null,
      "outputs": []
    },
    {
      "cell_type": "markdown",
      "metadata": {
        "id": "CmYsCdlM47Hy"
      },
      "source": [
        "### Functional Tests"
      ]
    },
    {
      "cell_type": "code",
      "metadata": {
        "id": "Lfi8h1-n-5ku"
      },
      "source": [
        "random.seed(143)\r\n",
        "\r\n",
        "p0 = {'000': 0.25, '001': 0.125, '010': 0.125, '011': 0.125, '100': 0.125, '101': 0.125, '110': 0.125, '111': 0.125} \r\n",
        "\r\n",
        "p1 = {'000': 0.5, '001': 0.5, '010': 0, '011': 0, '100': 0, '101': 0, '110': 0,'111': 0} \r\n",
        "\r\n",
        "p2={'00': 0.25, '01': 0.25, '10': 0.25, '11': 0.25}\r\n",
        "\r\n",
        "p3={'0': 0.75, '1': 0.25} \r\n",
        "\r\n",
        "assert get_sample(nbits=3,prob=p1,n=4) == ['001', '001', '000', '000']\r\n",
        "\r\n",
        "assert get_sample(nbits=3,prob=p0,n=10) == ['111', '110', '000', '001', '001', '101', '011', '100', '110', '100']\r\n",
        "\r\n",
        "assert get_sample(nbits=2,prob=p2,n=50) == ['11', '11', '00', '00', '00', '10', '01', '10', '11', '10', '11', '00', '10', '11', '10', '00', '11', '11', '01', '01', '01', '00', '10', '01', '00', '10', '11', '10', '11', '10', '10', '11', '11', '10', '01', '01', '11', '10', '01', '00', '10', '00', '00', '01', '00', '11', '00', '11', '10', '00']\r\n",
        "\r\n",
        "assert get_sample(nbits=1,prob=p3,n=100) == ['1', '1', '0', '0', '0', '0', '0', '0', '1', '0', '1', '0', '0', '1', '0', '0', '1', '1', '0', '0', '0', '0', '0', '0', '0', '0', '1', '0', '1', '0', '0', '1', '1', '0', '0', '0', '1', '0', '0', '0', '0', '0', '0', '0', '0', '1', '0', '1', '0', '0', '0', '0', '0', '0', '0', '0', '1', '0', '0', '1', '1', '0', '0', '1', '0', '0', '1', '0', '0', '0', '0', '1', '0', '0', '0', '0', '0', '0', '1', '0', '0', '0', '0', '1', '0', '0', '0', '0', '1', '1', '1', '1', '0', '0', '0', '0', '0', '0', '0', '0']\r\n",
        "\r\n",
        "assert get_sample(nbits=3,prob=p0,n=1) == ['111']"
      ],
      "execution_count": null,
      "outputs": []
    },
    {
      "cell_type": "markdown",
      "metadata": {
        "id": "QLsObehw-7Qi"
      },
      "source": [
        "# Question 2: Sample bitstrings Part 2\t"
      ]
    },
    {
      "cell_type": "markdown",
      "metadata": {
        "id": "GzAXC1oR1xxb"
      },
      "source": [
        "Write a function map_bitstring that takes a list of bitstrings (i.e., 0101) and maps each bitstring to 0 if the number of 0s in the bitstring strictly exceeds the number of 1s. Otherwise, map that bitstring to 1. The output of your function is a dictionary of the so-described key-value pairs.\r\n",
        "Here is an example:\r\n",
        "```\r\n",
        ">>> x= ['100', '100', '110', '010', '111', '000', '110', '010', '011', '000']\r\n",
        "```\r\n",
        "\r\n",
        "```\r\n",
        ">>> map_bitstring(x) \r\n",
        " {'100': 0, '110': 1, '010': 0, '111': 1, '000': 0, '011': 1}\r\n",
        " ``` \r\n"
      ]
    },
    {
      "cell_type": "markdown",
      "metadata": {
        "id": "TiHKaivW6eYG"
      },
      "source": [
        "### Validation Tests"
      ]
    },
    {
      "cell_type": "code",
      "metadata": {
        "id": "Gnb8jThN_B4j"
      },
      "source": [
        "assert isinstance(x, list)\r\n",
        "for num in x:\r\n",
        "    assert isinstance(num,str)\r\n",
        "    assert all(c in \"01\" for c in num)"
      ],
      "execution_count": null,
      "outputs": []
    },
    {
      "cell_type": "code",
      "metadata": {
        "id": "8HulAfin8j7k"
      },
      "source": [
        "x= ['100', '100', '110', '010', '111', '000', '110', '010', '011', '000']\r\n",
        "\r\n",
        "assert map_bitstring(x) == {'100': 0, '110': 1, '010': 0, '111': 1, '000': 0, '011': 1}\r\n",
        "\r\n",
        "x = ['0000', '0001', '0010', '0011', '0100', '0101', '0110', '0111']\r\n",
        "\r\n",
        "assert map_bitstring(x) ==  {'0000':0, '0001':0, '0010':0, '0011':1, '0100':0, '0101':1, '0110':1, '0111':1}"
      ],
      "execution_count": null,
      "outputs": []
    },
    {
      "cell_type": "markdown",
      "metadata": {
        "id": "EMUt98I4_J3_"
      },
      "source": [
        "# Question 3: Sample bitstrings Part 3\t"
      ]
    },
    {
      "cell_type": "markdown",
      "metadata": {
        "id": "X3gUlwO71y3K"
      },
      "source": [
        "Gather by values\r\n",
        "Now that you have get_sample working, generate n samples and tally the number of times an existing key is repeated. Generate a new dictionary with bitstrings as keys and with values as lists that contain the corresponding mapped values from map_bitstring. Here is an example for n=20,\r\n",
        "\r\n",
        "```\r\n",
        ">>> x=get_sample(nbits=2,prob={'00':1/4,'01':1/4,'10':1/4,'11':1/4},n=20)\r\n",
        "```\r\n",
        "\r\n",
        "```\r\n",
        ">>> print(x)\r\n",
        " ['10', '11', '01', '00', '10', '00', '00', '11', '10', '00', '00', '01', '01', '11', '10', '00', '11', '10', '11', '11']\r\n",
        " ```\r\n",
        "Write a function gather_values that can produce the following output from x:\r\n",
        "\r\n",
        "```\r\n",
        "{'10': [1, 1, 1, 1, 1],\r\n",
        " '11': [1, 1, 1, 1, 1, 1],     \r\n",
        " '01': [1, 1, 1],         \r\n",
        " '00': [0, 0, 0, 0, 0, 0]}     \r\n",
        " ```"
      ]
    },
    {
      "cell_type": "markdown",
      "metadata": {
        "id": "zOOlfbcN6fYw"
      },
      "source": [
        "### Validation Tests"
      ]
    },
    {
      "cell_type": "code",
      "metadata": {
        "id": "SGbWgnw5_JeP"
      },
      "source": [
        "assert isinstance(x, list)\r\n",
        "for num in x:\r\n",
        "    assert isinstance(num,str)\r\n",
        "    assert all(c in \"01\" for c in num)"
      ],
      "execution_count": null,
      "outputs": []
    },
    {
      "cell_type": "markdown",
      "metadata": {
        "id": "sjHACO6w6tmc"
      },
      "source": [
        "### Functional Tests"
      ]
    },
    {
      "cell_type": "code",
      "metadata": {
        "id": "Q5JRXEWl_lfO"
      },
      "source": [
        "x = ['10', '11', '01', '00', '10', '00', '00', '11', '10', '00', '00', '01', '01', '11', '10', '00', '11', '10', '11', '11']\r\n",
        "\r\n",
        "assert gather_values(x) == {'10': [1, 1, 1, 1, 1],\r\n",
        " '11': [1, 1, 1, 1, 1, 1],     \r\n",
        " '01': [1, 1, 1],         \r\n",
        " '00': [0, 0, 0, 0, 0, 0]}   \r\n",
        "\r\n",
        "x= ['100', '100', '110', '010', '111', '000', '110', '010', '011', '000']\r\n",
        "\r\n",
        "assert gather_values(x) == {'100': [0, 0],\r\n",
        " '110': [1, 1],\r\n",
        " '010': [0, 0],\r\n",
        " '111': [1],\r\n",
        " '000': [0, 0],\r\n",
        " '011': [1]}\r\n",
        "\r\n",
        "seq= ['1111', '0110', '1001', '0011', '0111', '0100', '0111', '1100', '0011', '0010', '0010', '1010', '1010', '1100', '0110', '0101', '0110', '1111', '1001', '0110', '0010', '1101', '0101', '0010', '0100', '0010', '0000', '0000', '0011', '0110', '0101', '1010', '1011', '1101', '1100', '0111', '1110', '0100', '0110', '1101', '0001', '1110', '0010', '0001', '1010', '1010', '0011', '1000', '0010', '0000', '1010', '1101', '1111', '1000', '1000', '0010', '1010', '0101', '0101', '1101', '0110', '1001', '1100', '1100', '1000', '1010', '0011', '0101', '0101', '0011', '0001', '1010', '0011', '0011', '1101', '1010', '0101', '0011', '1011', '0101', '0000', '1111', '1001', '0101', '1100', '0011', '1111', '1101', '0001', '1111', '1110', '1111', '0001', '0010', '0110', '0100', '0101', '1100', '1110', '1001']\r\n",
        "\r\n",
        "assert gather_values(seq) == {'1111': [1, 1, 1, 1, 1, 1, 1],\r\n",
        " '0110': [1, 1, 1, 1, 1, 1, 1, 1],\r\n",
        " '1001': [1, 1, 1, 1, 1],\r\n",
        " '0011': [1, 1, 1, 1, 1, 1, 1, 1, 1, 1],\r\n",
        " '0111': [1, 1, 1],\r\n",
        " '0100': [0, 0, 0, 0],\r\n",
        " '1100': [1, 1, 1, 1, 1, 1, 1],\r\n",
        " '0010': [0, 0, 0, 0, 0, 0, 0, 0, 0],\r\n",
        " '1010': [1, 1, 1, 1, 1, 1, 1, 1, 1, 1],\r\n",
        " '0101': [1, 1, 1, 1, 1, 1, 1, 1, 1, 1, 1],\r\n",
        " '1101': [1, 1, 1, 1, 1, 1, 1],\r\n",
        " '0000': [0, 0, 0, 0],\r\n",
        " '1011': [1, 1],\r\n",
        " '1110': [1, 1, 1, 1],\r\n",
        " '0001': [0, 0, 0, 0, 0],\r\n",
        " '1000': [0, 0, 0, 0]}\r\n"
      ],
      "execution_count": null,
      "outputs": []
    },
    {
      "cell_type": "markdown",
      "metadata": {
        "id": "M5VRe59r_UvF"
      },
      "source": [
        "# Question 4: Sample bitstrings Part 4"
      ]
    },
    {
      "cell_type": "markdown",
      "metadata": {
        "id": "6ciEoLCX32pM"
      },
      "source": [
        "From gather_values, we can group the results of the random samples. Now, we want to threshold those values based upon their frequency and value. Given threshold=2, we want to keep only those bitstrings with the two highest frequency counts of the 1 value. For example, as before we have,\r\n",
        "\r\n",
        "```\r\n",
        "x=['10', '11', '01', '00', '10', '00', '00', '11', '10', '00', '00', '01', '01', '11', '10', '00', '11', '10', '11', '11'] \r\n",
        "```\r\n",
        "according to our last result, we had\r\n",
        "\r\n",
        "```\r\n",
        "{'10': [1, 1, 1, 1, 1],\r\n",
        "'11': [1, 1, 1, 1, 1, 1],  \r\n",
        " '01': [1, 1, 1],  \r\n",
        "'00': [0, 0, 0, 0, 0, 0]}  \r\n",
        "\r\n",
        "\r\n",
        "```\r\n",
        "But because the threshold=2, we only want to keep the bitstrings with the two most frequent 1s and set all of the rest to 0. In this case, this is 10 and 11 with the following output:\r\n",
        "```\r\n",
        "{'10': 1,\r\n",
        " '11': 1,  \r\n",
        " '01': 0,  \r\n",
        " '00': 0}  \r\n",
        " ```\r\n",
        "Note that 01 corresponding value was set to 0 because it did not have the top two most frequent values of 1. If there is a tie, then use the smallest value the tied bitstrings to pick the winner. Here is a more detailed example:\r\n",
        "```\r\n",
        "seq= ['1111', '0110', '1001', '0011', '0111', '0100', '0111', '1100', '0011', '0010', '0010', '1010', '1010', '1100', '0110', '0101', '0110', '1111', '1001', '0110', '0010', '1101', '0101', '0010', '0100', '0010', '0000', '0000', '0011', '0110', '0101', '1010', '1011', '1101', '1100', '0111', '1110', '0100', '0110', '1101', '0001', '1110', '0010', '0001', '1010', '1010', '0011', '1000', '0010', '0000', '1010', '1101', '1111', '1000', '1000', '0010', '1010', '0101', '0101', '1101', '0110', '1001', '1100', '1100', '1000', '1010', '0011', '0101', '0101', '0011', '0001', '1010', '0011', '0011', '1101', '1010', '0101', '0011', '1011', '0101', '0000', '1111', '1001', '0101', '1100', '0011', '1111', '1101', '0001', '1111', '1110', '1111', '0001', '0010', '0110', '0100', '0101', '1100', '1110', '1001'] \r\n",
        "```\r\n",
        "With corresponding output from threshold_values,\r\n",
        "```\r\n",
        ">>> threshold_values(seq,3) \r\n",
        " {'0000': 0, '0001': 0, '0010': 0, '0011': 1, '0100': 0, '0101': 1, '0110': 0, '0111': 0, '1000': 0, '1001': 0, '1010': 1, '1011': 0, '1100': 0, '1101': 0, '1110': 0, '1111': 0} \r\n",
        " ```\r\n",
        "Your function signature is threshold_values(seq,threshold=1). Please keep the default values as given in the function signature."
      ]
    },
    {
      "cell_type": "markdown",
      "metadata": {
        "id": "z1CPeP9w6hOh"
      },
      "source": [
        "### Validation Tests"
      ]
    },
    {
      "cell_type": "code",
      "metadata": {
        "id": "hZ5QvbRF_mWH"
      },
      "source": [
        "assert isinstance(seq, list)\r\n",
        "assert threshold >= 0\r\n",
        "for num in seq:\r\n",
        "    assert isinstance(num,str)\r\n",
        "    assert all(c in \"01\" for c in num)"
      ],
      "execution_count": null,
      "outputs": []
    },
    {
      "cell_type": "markdown",
      "metadata": {
        "id": "s5lsVO1O61tl"
      },
      "source": [
        "### Functional Tests"
      ]
    },
    {
      "cell_type": "code",
      "metadata": {
        "id": "bFkczRs566v7"
      },
      "source": [
        "x=['10', '11', '01', '00', '10', '00', '00', '11', '10', '00', '00', '01', '01', '11', '10', '00', '11', '10', '11', '11'] \r\n",
        "\r\n",
        "x2=['10', '11', '01', '00', '10', '00', '00', '11', '10', '00', '00', '01', '01', '11', '10', '00', '11', '10', '11', '11','10', '11', '01', '00', '10', '00', '00', '11', '10', '00', '00', '01', '01', '11', '10', '00', '11', '10', '11', '11','10', '11', '01', '00', '10', '00', '00', '11', '10', '00', '00', '01', '01', '11', '10', '00', '11', '10', '11', '11','10', '11', '01', '00', '10', '00', '00', '11', '10', '00', '00', '01', '01', '11', '10', '00', '11', '10', '11', '11','10', '11', '01', '00', '10', '00', '00', '11', '10', '00', '00', '01', '01', '11', '10', '00', '11', '10', '11', '11','10', '11', '01', '00', '10', '00', '00', '11', '10', '00', '00', '01', '01', '11', '10', '00', '11', '10', '11', '11','10', '11', '01', '00', '10', '00', '00', '11', '10', '00', '00', '01', '01', '11', '10', '00', '11', '10', '11', '11','10', '11', '01', '00', '10', '00', '00', '11', '10', '00', '00', '01', '01', '11', '10', '00', '11', '10', '11', '11','10', '11', '01', '00', '10', '00', '00', '11', '10', '00', '00', '01', '01', '11', '10', '00', '11', '10', '11', '11','10', '11', '01', '00', '10', '00', '00', '11', '10', '00', '00', '01', '01', '11', '10', '00', '11', '10', '11', '11','10', '11', '01', '00', '10', '00', '00', '11', '10', '00', '00', '01', '01', '11', '10', '00', '11', '10', '11', '11'] \r\n",
        "\r\n",
        "\r\n",
        "seq= ['1111', '0110', '1001', '0011', '0111', '0100', '0111', '1100', '0011', '0010', '0010', '1010', '1010', '1100', '0110', '0101', '0110', '1111', '1001', '0110', '0010', '1101', '0101', '0010', '0100', '0010', '0000', '0000', '0011', '0110', '0101', '1010', '1011', '1101', '1100', '0111', '1110', '0100', '0110', '1101', '0001', '1110', '0010', '0001', '1010', '1010', '0011', '1000', '0010', '0000', '1010', '1101', '1111', '1000', '1000', '0010', '1010', '0101', '0101', '1101', '0110', '1001', '1100', '1100', '1000', '1010', '0011', '0101', '0101', '0011', '0001', '1010', '0011', '0011', '1101', '1010', '0101', '0011', '1011', '0101', '0000', '1111', '1001', '0101', '1100', '0011', '1111', '1101', '0001', '1111', '1110', '1111', '0001', '0010', '0110', '0100', '0101', '1100', '1110', '1001'] \r\n",
        "\r\n",
        "assert threshold_values(x,threshold=2) = {'10': 1, '11': 1, '01': 0, '00': 0}\r\n",
        "\r\n",
        "assert threshold_values(x2,threshold=2) = {'10': 1, '11': 1, '01': 0, '00': 0}\r\n",
        "\r\n",
        "assert threshold_values(seq,3) = {'1111': 0, '0110': 0, '1001': 0, '0011': 1, '0111': 0, '0100': 0, '1100': 0, '0010': 0, '1010': 1, '0101': 1, '1101': 0, '0000': 0, '1011': 0, '1110': 0, '0001': 0, '1000': 0}\r\n",
        "\r\n",
        "assert threshold_values(seq,threshold = 8) = {'1111': 1, '0110': 1, '1001': 1, '0011': 1, '0111': 0, '0100': 0, '1100': 1, '0010': 0, '1010': 1, '0101': 1, '1101': 1, '0000': 0, '1011': 0, '1110': 0, '0001': 0, '1000': 0}"
      ],
      "execution_count": null,
      "outputs": []
    },
    {
      "cell_type": "markdown",
      "metadata": {
        "id": "n0RcfxkpBbL0"
      },
      "source": [
        "# Question 5: Sequential Descrambler\t"
      ]
    },
    {
      "cell_type": "markdown",
      "metadata": {
        "id": "yOCoD6MUBwlG"
      },
      "source": [
        "You are given a sequence of n lower-case letters and a k-tuple of integers that indicate partition-lengths of the sequence. Also, you have a dictionary of commonly used words. The n letters represent a phrase of k words where the length of the $j_{th}$ word is the $j_{th}$ element of the tuple.\r\n",
        "\r\n",
        "Here is an example:\r\n",
        "\r\n",
        "    w = 'trleeohelh' , k=(5,5)\r\n",
        "\r\n",
        "Your generator descrambler(w,k) should iteratively yield the output \r\n",
        "\r\n",
        "    ['hello three','three hello','hello there','there hello']\r\n",
        "\r\n",
        "Note that because both words have 5 characters, it is not possible to definitively know the order of the phrase.\r\n",
        "\r\n",
        "Here are more interesting examples:\r\n",
        "\r\n",
        "    list(descrambler('choeounokeoitg',(3,5,6)))\r\n",
        "\r\n",
        "    ['one tough cookie', 'one ought cookie', 'neo tough cookie', 'neo ought cookie']\r\n",
        "\r\n",
        "    list(descrambler('qeodwnsciseuesincereins',(4,7,12)))\r\n",
        "\r\n",
        "    ['wise insider consequences']"
      ]
    },
    {
      "cell_type": "markdown",
      "metadata": {
        "id": "5YGUJeyO6o9_"
      },
      "source": [
        "### Validation Tests"
      ]
    },
    {
      "cell_type": "code",
      "metadata": {
        "id": "6NderAZrMA1j"
      },
      "source": [
        "assert isinstance(w,str)\r\n",
        "assert isinstance(k,tuple)\r\n",
        "assert len(w) == sum(k)\r\n",
        "assert len(w) > 0\r\n",
        "assert set(w).issubset(set('abcdefghijklmnopqrstuvwxyz'))\r\n",
        "assert all(isinstance(n,int) and n>0 for n in k)"
      ],
      "execution_count": null,
      "outputs": []
    },
    {
      "cell_type": "markdown",
      "metadata": {
        "id": "hIhhccN4_AXt"
      },
      "source": [
        "Function Test"
      ]
    },
    {
      "cell_type": "code",
      "metadata": {
        "id": "3_uPzco989rV"
      },
      "source": [
        "assert list(descrambler('hellohi', (5,2))) == ['hello hi']\r\n",
        "\r\n",
        "assert list(descrambler('buymusic', (3,5)))) == ['buy music']\r\n",
        "\r\n",
        "assert sorted(list(descrambler('hhyioowu', (2,3,3)))) == ['hi how you', 'hi who you', 'hi you how', 'hi you who']\r\n",
        "\r\n",
        "assert sorted(list(descrambler('lworostld', (5,4)))) == ['sword toll','words toll','world lost','world lots','world slot','worst doll']\r\n",
        "\r\n",
        "assert list(descrambler('qeodwnsciseuesincereins',(4,7,12))) == ['wise insider consequences']\r\n",
        "\r\n",
        "assert sorted(list(descrambler('choeounokeoitg',(3,5,6)))) == ['neo ought cookie','neo tough cookie','one ought cookie','one tough cookie']"
      ],
      "execution_count": null,
      "outputs": []
    }
  ]
}