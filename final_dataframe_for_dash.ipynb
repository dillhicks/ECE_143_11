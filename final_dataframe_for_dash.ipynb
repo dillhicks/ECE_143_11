{
 "cells": [
  {
   "cell_type": "code",
   "execution_count": null,
   "id": "current-chair",
   "metadata": {},
   "outputs": [
    {
     "name": "stderr",
     "output_type": "stream",
     "text": [
      "/opt/miniconda3/lib/python3.7/site-packages/IPython/core/interactiveshell.py:3347: DtypeWarning: Columns (26) have mixed types.Specify dtype option on import or set low_memory=False.\n",
      "  if (await self.run_code(code, result,  async_=asy)):\n"
     ]
    }
   ],
   "source": [
    "#import custom python functions\n",
    "import predictions\n",
    "import preprocessing \n",
    "import helper_functions\n",
    "\n",
    "#Choose data\n",
    "metrics = ['Market Value','Sales','Profits','Assets','Rank'] #columns of interest in the dataframe\n",
    "input_years = range(2008,2021) #years to read from datafiles\n",
    "prediction_years = range(2017,2021) #years to base predictions on\n",
    "all_years = range(2008,2022) #include predicted 2021\n",
    "\n",
    "\n",
    "#read and clean data for selected years\n",
    "df = preprocessing.preprocess_data('datasets/',metrics,input_years)\n",
    "\n",
    "#append PCA data to dataframe\n",
    "df = helper_functions.append_PCA_data('datasets/Forbes Global 2000-2008 - 2019.zip',all_years,df)\n",
    "\n",
    "#append closest companies to dataframe\n",
    "df = helper_functions.append_closest_companies('datasets/closest_companies.csv',df)\n",
    "\n",
    "#perform predictions and append to dataframe \n",
    "df = predictions.perform_predictions(metrics,prediction_years,df)\n",
    "\n",
    "#add ratios to dataframe\n",
    "df = helper_functions.add_ratios(df,all_years,metrics[:-1]) #not used in dash app as of now, but may be of interest in the future\n",
    "\n",
    "#save dataframe as pickle\n",
    "df.to_pickle('pickles/dataframe_for_dash')"
   ]
  },
  {
   "cell_type": "code",
   "execution_count": null,
   "id": "broke-lyric",
   "metadata": {},
   "outputs": [],
   "source": []
  }
 ],
 "metadata": {
  "kernelspec": {
   "display_name": "myenv",
   "language": "python",
   "name": "myenv"
  },
  "language_info": {
   "codemirror_mode": {
    "name": "ipython",
    "version": 3
   },
   "file_extension": ".py",
   "mimetype": "text/x-python",
   "name": "python",
   "nbconvert_exporter": "python",
   "pygments_lexer": "ipython3",
   "version": "3.7.9"
  }
 },
 "nbformat": 4,
 "nbformat_minor": 5
}
